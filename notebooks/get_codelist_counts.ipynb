{
 "cells": [
  {
   "cell_type": "code",
   "execution_count": null,
   "id": "39c8e690",
   "metadata": {},
   "outputs": [],
   "source": [
    "import csv\n",
    "import glob\n",
    "import os\n",
    "import time\n",
    "import pandas as pd\n",
    "import pyodbc"
   ]
  },
  {
   "cell_type": "code",
   "execution_count": null,
   "id": "08ed434c",
   "metadata": {},
   "outputs": [],
   "source": [
    "dsn = os.environ['FULL_DATABASE_URL']\n",
    "conn = pyodbc.connect(dsn)"
   ]
  },
  {
   "cell_type": "code",
   "execution_count": null,
   "id": "32c9e755",
   "metadata": {},
   "outputs": [],
   "source": [
    "def get_counts(codes):\n",
    "    joined_codes = \", \".join(codes)\n",
    "    sql = f\"\"\"\n",
    "    SELECT count(*)\n",
    "    FROM medicationissue mi\n",
    "    JOIN medicationdictionary md ON mi.multilexdrug_id = md.multilexdrug_id\n",
    "    WHERE mi.consultationdate >= '2019-01-01'\n",
    "      AND md.dmd_id in ({joined_codes})\n",
    "    \"\"\"\n",
    "    \n",
    "    for i in range(5):\n",
    "        try:\n",
    "            return list(conn.execute(sql.format(\", \".join(old_codes))))[0][0]\n",
    "        except pyodbc.Error as e:\n",
    "            print(type(e).__name__, e)\n",
    "            sleep = 10 * 2 ** i\n",
    "            print(f\"Sleeping {sleep} seconds\")\n",
    "            time.sleep(sleep)"
   ]
  },
  {
   "cell_type": "code",
   "execution_count": null,
   "id": "288f4eb3",
   "metadata": {},
   "outputs": [],
   "source": [
    "counts = {\"old\": {}, \"new\": {}}\n",
    "\n",
    "for path in glob.glob(\"../local_codelists/*.csv\"):\n",
    "    name = path.split(\"/\")[-1][:-8]\n",
    "    print(name)\n",
    "\n",
    "    with open(f\"../codelists/{name}.csv\") as f:\n",
    "        rows = list(csv.DictReader(f))\n",
    "\n",
    "    for header in [\"vpid\", \"dmd_id\", \"id\", \"code\"]:\n",
    "        if header in rows[0]:\n",
    "            break\n",
    "    else:\n",
    "        assert False, rows[0].keys()\n",
    "        \n",
    "    old_codes = [f\"'{r[header]}'\" for r in rows]\n",
    "\n",
    "        \n",
    "    with open(path) as f:\n",
    "        rows = list(csv.DictReader(f))\n",
    "\n",
    "    new_codes = [f\"'{r[header]}'\" for r in rows]\n",
    "    \n",
    "    counts[\"old\"][name] = get_counts(old_codes)\n",
    "    counts[\"new\"][name] = get_counts(new_codes)"
   ]
  },
  {
   "cell_type": "code",
   "execution_count": null,
   "id": "723c56c5",
   "metadata": {},
   "outputs": [],
   "source": [
    "df = pd.DataFrame(counts)\n",
    "df[\"delta\"] = df[\"new\"] - df[\"old\"]\n",
    "df[\"delta %\"] = 100 * df[\"delta\"] / df[\"old\"]\n",
    "df = df.sort_values(\"delta %\", ascending=False)"
   ]
  },
  {
   "cell_type": "code",
   "execution_count": null,
   "id": "f512b48c",
   "metadata": {},
   "outputs": [],
   "source": [
    "df"
   ]
  },
  {
   "cell_type": "code",
   "execution_count": null,
   "id": "bed55287",
   "metadata": {},
   "outputs": [],
   "source": [
    "print(df.to_markdown(floatfmt=\".0f\"))"
   ]
  },
  {
   "cell_type": "code",
   "execution_count": null,
   "id": "e27e9f41",
   "metadata": {},
   "outputs": [],
   "source": []
  }
 ],
 "metadata": {
  "jupytext": {
   "cell_metadata_filter": "all",
   "notebook_metadata_filter": "all,-language_info"
  },
  "kernelspec": {
   "display_name": "Python 3 (ipykernel)",
   "language": "python",
   "name": "python3"
  },
  "language_info": {
   "codemirror_mode": {
    "name": "ipython",
    "version": 3
   },
   "file_extension": ".py",
   "mimetype": "text/x-python",
   "name": "python",
   "nbconvert_exporter": "python",
   "pygments_lexer": "ipython3",
   "version": "3.10.4"
  }
 },
 "nbformat": 4,
 "nbformat_minor": 5
}

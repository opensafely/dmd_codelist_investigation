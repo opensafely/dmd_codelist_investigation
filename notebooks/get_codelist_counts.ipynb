{
 "cells": [
  {
   "cell_type": "code",
   "execution_count": null,
   "id": "51baaa64",
   "metadata": {},
   "outputs": [],
   "source": [
    "import csv\n",
    "import glob\n",
    "import os\n",
    "import pandas as pd\n",
    "import pyodbc"
   ]
  },
  {
   "cell_type": "code",
   "execution_count": null,
   "id": "8484c9f3",
   "metadata": {},
   "outputs": [],
   "source": [
    "dsn = os.environ['FULL_DATABASE_URL']\n",
    "conn = pyodbc.connect(dsn)\n",
    "\n",
    "sql = \"\"\"\n",
    "SELECT count(*)\n",
    "FROM medicationissue mi\n",
    "JOIN medicationdictionary md ON mi.multilexdrug_id = md.multilexdrug_id\n",
    "WHERE mi.consultationdate >= '2019-01-01'\n",
    "  AND md.dmd_id in ({})\n",
    "\"\"\""
   ]
  },
  {
   "cell_type": "code",
   "execution_count": null,
   "id": "7a85d76d",
   "metadata": {},
   "outputs": [],
   "source": [
    "counts = {\"old\": {}, \"new\": {}}\n",
    "\n",
    "for path in glob.glob(\"../local_codelists/*.csv\"):\n",
    "    name = path.split(\"/\")[-1][:-8]\n",
    "    print(name)\n",
    "\n",
    "    with open(f\"../codelists/{name}.csv\") as f:\n",
    "        rows = list(csv.DictReader(f))\n",
    "\n",
    "    for header in [\"vpid\", \"dmd_id\", \"id\", \"code\"]:\n",
    "        if header in rows[0]:\n",
    "            break\n",
    "    else:\n",
    "        assert False, rows[0].keys()\n",
    "        \n",
    "    old_codes = [r[header] for r in rows]\n",
    "\n",
    "        \n",
    "    with open(path) as f:\n",
    "        rows = list(csv.DictReader(f))\n",
    "\n",
    "    new_codes = [r[header] for r in rows]\n",
    "    \n",
    "    counts[\"old\"][name] = list(conn.execute(sql.format(\", \".join(old_codes))))[0][0]\n",
    "    counts[\"new\"][name] = list(conn.execute(sql.format(\", \".join(new_codes))))[0][0]"
   ]
  },
  {
   "cell_type": "code",
   "execution_count": null,
   "id": "0e200768",
   "metadata": {},
   "outputs": [],
   "source": [
    "df = pd.DataFrame(counts)\n",
    "df[\"delta\"] = df[\"new\"] - df[\"old\"]\n",
    "df[\"delta %\"] = 100 * df[\"delta\"] / df[\"old\"]"
   ]
  },
  {
   "cell_type": "code",
   "execution_count": null,
   "id": "50544701",
   "metadata": {},
   "outputs": [],
   "source": [
    "df"
   ]
  },
  {
   "cell_type": "code",
   "execution_count": null,
   "id": "4998430a",
   "metadata": {},
   "outputs": [],
   "source": [
    "print(df.to_markdown(floatfmt=\".0f\"))"
   ]
  }
 ],
 "metadata": {
  "kernelspec": {
   "display_name": "Python 3 (ipykernel)",
   "language": "python",
   "name": "python3"
  },
  "language_info": {
   "codemirror_mode": {
    "name": "ipython",
    "version": 3
   },
   "file_extension": ".py",
   "mimetype": "text/x-python",
   "name": "python",
   "nbconvert_exporter": "python",
   "pygments_lexer": "ipython3",
   "version": "3.10.4"
  }
 },
 "nbformat": 4,
 "nbformat_minor": 5
}
